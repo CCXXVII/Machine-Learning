{
 "cells": [
  {
   "cell_type": "code",
   "execution_count": 1,
   "metadata": {},
   "outputs": [],
   "source": [
    "import numpy as np\n",
    "import matplotlib.pyplot as plt\n",
    "import pandas as pd\n",
    "from sklearn import preprocessing"
   ]
  },
  {
   "cell_type": "code",
   "execution_count": 2,
   "metadata": {},
   "outputs": [
    {
     "data": {
      "text/html": [
       "<div>\n",
       "<style scoped>\n",
       "    .dataframe tbody tr th:only-of-type {\n",
       "        vertical-align: middle;\n",
       "    }\n",
       "\n",
       "    .dataframe tbody tr th {\n",
       "        vertical-align: top;\n",
       "    }\n",
       "\n",
       "    .dataframe thead th {\n",
       "        text-align: right;\n",
       "    }\n",
       "</style>\n",
       "<table border=\"1\" class=\"dataframe\">\n",
       "  <thead>\n",
       "    <tr style=\"text-align: right;\">\n",
       "      <th></th>\n",
       "      <th>RowNumber</th>\n",
       "      <th>CustomerId</th>\n",
       "      <th>Surname</th>\n",
       "      <th>CreditScore</th>\n",
       "      <th>Geography</th>\n",
       "      <th>Gender</th>\n",
       "      <th>Age</th>\n",
       "      <th>Tenure</th>\n",
       "      <th>Balance</th>\n",
       "      <th>NumOfProducts</th>\n",
       "      <th>HasCrCard</th>\n",
       "      <th>IsActiveMember</th>\n",
       "      <th>EstimatedSalary</th>\n",
       "      <th>Exited</th>\n",
       "    </tr>\n",
       "  </thead>\n",
       "  <tbody>\n",
       "    <tr>\n",
       "      <th>0</th>\n",
       "      <td>1</td>\n",
       "      <td>15634602</td>\n",
       "      <td>Hargrave</td>\n",
       "      <td>619</td>\n",
       "      <td>France</td>\n",
       "      <td>Female</td>\n",
       "      <td>42</td>\n",
       "      <td>2</td>\n",
       "      <td>0.00</td>\n",
       "      <td>1</td>\n",
       "      <td>1</td>\n",
       "      <td>1</td>\n",
       "      <td>101348.88</td>\n",
       "      <td>1</td>\n",
       "    </tr>\n",
       "    <tr>\n",
       "      <th>1</th>\n",
       "      <td>2</td>\n",
       "      <td>15647311</td>\n",
       "      <td>Hill</td>\n",
       "      <td>608</td>\n",
       "      <td>Spain</td>\n",
       "      <td>Female</td>\n",
       "      <td>41</td>\n",
       "      <td>1</td>\n",
       "      <td>83807.86</td>\n",
       "      <td>1</td>\n",
       "      <td>0</td>\n",
       "      <td>1</td>\n",
       "      <td>112542.58</td>\n",
       "      <td>0</td>\n",
       "    </tr>\n",
       "    <tr>\n",
       "      <th>2</th>\n",
       "      <td>3</td>\n",
       "      <td>15619304</td>\n",
       "      <td>Onio</td>\n",
       "      <td>502</td>\n",
       "      <td>France</td>\n",
       "      <td>Female</td>\n",
       "      <td>42</td>\n",
       "      <td>8</td>\n",
       "      <td>159660.80</td>\n",
       "      <td>3</td>\n",
       "      <td>1</td>\n",
       "      <td>0</td>\n",
       "      <td>113931.57</td>\n",
       "      <td>1</td>\n",
       "    </tr>\n",
       "    <tr>\n",
       "      <th>3</th>\n",
       "      <td>4</td>\n",
       "      <td>15701354</td>\n",
       "      <td>Boni</td>\n",
       "      <td>699</td>\n",
       "      <td>France</td>\n",
       "      <td>Female</td>\n",
       "      <td>39</td>\n",
       "      <td>1</td>\n",
       "      <td>0.00</td>\n",
       "      <td>2</td>\n",
       "      <td>0</td>\n",
       "      <td>0</td>\n",
       "      <td>93826.63</td>\n",
       "      <td>0</td>\n",
       "    </tr>\n",
       "    <tr>\n",
       "      <th>4</th>\n",
       "      <td>5</td>\n",
       "      <td>15737888</td>\n",
       "      <td>Mitchell</td>\n",
       "      <td>850</td>\n",
       "      <td>Spain</td>\n",
       "      <td>Female</td>\n",
       "      <td>43</td>\n",
       "      <td>2</td>\n",
       "      <td>125510.82</td>\n",
       "      <td>1</td>\n",
       "      <td>1</td>\n",
       "      <td>1</td>\n",
       "      <td>79084.10</td>\n",
       "      <td>0</td>\n",
       "    </tr>\n",
       "  </tbody>\n",
       "</table>\n",
       "</div>"
      ],
      "text/plain": [
       "   RowNumber  CustomerId   Surname  CreditScore Geography  Gender  Age  \\\n",
       "0          1    15634602  Hargrave          619    France  Female   42   \n",
       "1          2    15647311      Hill          608     Spain  Female   41   \n",
       "2          3    15619304      Onio          502    France  Female   42   \n",
       "3          4    15701354      Boni          699    France  Female   39   \n",
       "4          5    15737888  Mitchell          850     Spain  Female   43   \n",
       "\n",
       "   Tenure    Balance  NumOfProducts  HasCrCard  IsActiveMember  \\\n",
       "0       2       0.00              1          1               1   \n",
       "1       1   83807.86              1          0               1   \n",
       "2       8  159660.80              3          1               0   \n",
       "3       1       0.00              2          0               0   \n",
       "4       2  125510.82              1          1               1   \n",
       "\n",
       "   EstimatedSalary  Exited  \n",
       "0        101348.88       1  \n",
       "1        112542.58       0  \n",
       "2        113931.57       1  \n",
       "3         93826.63       0  \n",
       "4         79084.10       0  "
      ]
     },
     "execution_count": 2,
     "metadata": {},
     "output_type": "execute_result"
    }
   ],
   "source": [
    "datas = pd.read_csv(\"Churn_Modelling.csv\")\n",
    "datas.head()"
   ]
  },
  {
   "cell_type": "code",
   "execution_count": 3,
   "metadata": {},
   "outputs": [],
   "source": [
    "X = datas.iloc[:,3:13].values\n",
    "Y = datas.iloc[:,13].values"
   ]
  },
  {
   "cell_type": "markdown",
   "metadata": {},
   "source": [
    "Label Encoder"
   ]
  },
  {
   "cell_type": "code",
   "execution_count": 4,
   "metadata": {},
   "outputs": [],
   "source": [
    "le = preprocessing.LabelEncoder()\n",
    "le2 = preprocessing.LabelEncoder()\n",
    "X[:,1] = le.fit_transform(X[:,1])\n",
    "X[:,2] = le2.fit_transform(X[:,2])"
   ]
  },
  {
   "cell_type": "code",
   "execution_count": 5,
   "metadata": {},
   "outputs": [],
   "source": [
    "from sklearn.preprocessing import OneHotEncoder\n",
    "from sklearn.compose import ColumnTransformer"
   ]
  },
  {
   "cell_type": "code",
   "execution_count": 6,
   "metadata": {},
   "outputs": [],
   "source": [
    "ohe = ColumnTransformer([('ohe', OneHotEncoder(dtype=float),[1])], remainder='passthrough')\n",
    "X = ohe.fit_transform(X)\n",
    "X = X[:,1:]"
   ]
  },
  {
   "cell_type": "code",
   "execution_count": 7,
   "metadata": {},
   "outputs": [],
   "source": [
    "from sklearn.model_selection import train_test_split"
   ]
  },
  {
   "cell_type": "code",
   "execution_count": 8,
   "metadata": {},
   "outputs": [],
   "source": [
    "x_train, x_test, y_train, y_test = train_test_split(X,Y, test_size= 0.33, random_state= 0)"
   ]
  },
  {
   "cell_type": "markdown",
   "metadata": {},
   "source": [
    "Scaler"
   ]
  },
  {
   "cell_type": "code",
   "execution_count": 9,
   "metadata": {},
   "outputs": [],
   "source": [
    "from sklearn.preprocessing import StandardScaler"
   ]
  },
  {
   "cell_type": "code",
   "execution_count": 10,
   "metadata": {},
   "outputs": [],
   "source": [
    "sc = StandardScaler()\n",
    "X_train = sc.fit_transform(x_train)\n",
    "X_test = sc.fit_transform(x_test)"
   ]
  },
  {
   "cell_type": "markdown",
   "metadata": {},
   "source": [
    "Neural networks"
   ]
  },
  {
   "cell_type": "code",
   "execution_count": 11,
   "metadata": {},
   "outputs": [],
   "source": [
    "import keras"
   ]
  },
  {
   "cell_type": "code",
   "execution_count": 12,
   "metadata": {},
   "outputs": [],
   "source": [
    "from keras.models import Sequential\n",
    "from keras.layers import Dense"
   ]
  },
  {
   "cell_type": "code",
   "execution_count": 13,
   "metadata": {},
   "outputs": [],
   "source": [
    "classifier = Sequential()\n",
    "classifier.add(Dense(6, kernel_initializer='uniform', activation= 'relu', input_dim = 11))"
   ]
  },
  {
   "cell_type": "code",
   "execution_count": 14,
   "metadata": {},
   "outputs": [],
   "source": [
    "classifier.add(Dense(6, kernel_initializer='uniform', activation= 'relu'))"
   ]
  },
  {
   "cell_type": "markdown",
   "metadata": {},
   "source": [
    "Output"
   ]
  },
  {
   "cell_type": "code",
   "execution_count": 15,
   "metadata": {},
   "outputs": [],
   "source": [
    "classifier.add(Dense(1, kernel_initializer='uniform', activation= 'sigmoid'))"
   ]
  },
  {
   "cell_type": "markdown",
   "metadata": {},
   "source": [
    "Compile"
   ]
  },
  {
   "cell_type": "code",
   "execution_count": 16,
   "metadata": {},
   "outputs": [],
   "source": [
    "classifier.compile(optimizer='adam', loss = 'binary_crossentropy', metrics = ['accuracy'])"
   ]
  },
  {
   "cell_type": "code",
   "execution_count": 17,
   "metadata": {},
   "outputs": [
    {
     "name": "stdout",
     "output_type": "stream",
     "text": [
      "Epoch 1/50\n",
      "210/210 [==============================] - 1s 802us/step - loss: 0.6237 - accuracy: 0.7969\n",
      "Epoch 2/50\n",
      "210/210 [==============================] - 0s 791us/step - loss: 0.4498 - accuracy: 0.7979\n",
      "Epoch 3/50\n",
      "210/210 [==============================] - 0s 791us/step - loss: 0.4172 - accuracy: 0.8104\n",
      "Epoch 4/50\n",
      "210/210 [==============================] - 0s 791us/step - loss: 0.4053 - accuracy: 0.8270\n",
      "Epoch 5/50\n",
      "210/210 [==============================] - 0s 787us/step - loss: 0.3987 - accuracy: 0.8273\n",
      "Epoch 6/50\n",
      "210/210 [==============================] - 0s 779us/step - loss: 0.3931 - accuracy: 0.8285\n",
      "Epoch 7/50\n",
      "210/210 [==============================] - 0s 783us/step - loss: 0.3886 - accuracy: 0.8313\n",
      "Epoch 8/50\n",
      "210/210 [==============================] - 0s 772us/step - loss: 0.3847 - accuracy: 0.8315\n",
      "Epoch 9/50\n",
      "210/210 [==============================] - 0s 782us/step - loss: 0.3816 - accuracy: 0.8327\n",
      "Epoch 10/50\n",
      "210/210 [==============================] - 0s 781us/step - loss: 0.3795 - accuracy: 0.8318\n",
      "Epoch 11/50\n",
      "210/210 [==============================] - 0s 774us/step - loss: 0.3768 - accuracy: 0.8334\n",
      "Epoch 12/50\n",
      "210/210 [==============================] - 0s 799us/step - loss: 0.3749 - accuracy: 0.8333\n",
      "Epoch 13/50\n",
      "210/210 [==============================] - 0s 777us/step - loss: 0.3729 - accuracy: 0.8367\n",
      "Epoch 14/50\n",
      "210/210 [==============================] - 0s 778us/step - loss: 0.3714 - accuracy: 0.8439\n",
      "Epoch 15/50\n",
      "210/210 [==============================] - 0s 774us/step - loss: 0.3696 - accuracy: 0.8440\n",
      "Epoch 16/50\n",
      "210/210 [==============================] - 0s 792us/step - loss: 0.3688 - accuracy: 0.8463\n",
      "Epoch 17/50\n",
      "210/210 [==============================] - 0s 776us/step - loss: 0.3671 - accuracy: 0.8475\n",
      "Epoch 18/50\n",
      "210/210 [==============================] - 0s 775us/step - loss: 0.3656 - accuracy: 0.8503\n",
      "Epoch 19/50\n",
      "210/210 [==============================] - 0s 772us/step - loss: 0.3642 - accuracy: 0.8503\n",
      "Epoch 20/50\n",
      "210/210 [==============================] - 0s 766us/step - loss: 0.3632 - accuracy: 0.8501\n",
      "Epoch 21/50\n",
      "210/210 [==============================] - 0s 798us/step - loss: 0.3625 - accuracy: 0.8537\n",
      "Epoch 22/50\n",
      "210/210 [==============================] - 0s 777us/step - loss: 0.3613 - accuracy: 0.8522\n",
      "Epoch 23/50\n",
      "210/210 [==============================] - 0s 763us/step - loss: 0.3603 - accuracy: 0.8537\n",
      "Epoch 24/50\n",
      "210/210 [==============================] - 0s 763us/step - loss: 0.3595 - accuracy: 0.8545\n",
      "Epoch 25/50\n",
      "210/210 [==============================] - 0s 771us/step - loss: 0.3584 - accuracy: 0.8534\n",
      "Epoch 26/50\n",
      "210/210 [==============================] - 0s 780us/step - loss: 0.3572 - accuracy: 0.8569\n",
      "Epoch 27/50\n",
      "210/210 [==============================] - 0s 757us/step - loss: 0.3559 - accuracy: 0.8569\n",
      "Epoch 28/50\n",
      "210/210 [==============================] - 0s 766us/step - loss: 0.3569 - accuracy: 0.8560\n",
      "Epoch 29/50\n",
      "210/210 [==============================] - 0s 783us/step - loss: 0.3549 - accuracy: 0.8558\n",
      "Epoch 30/50\n",
      "210/210 [==============================] - 0s 783us/step - loss: 0.3544 - accuracy: 0.8569\n",
      "Epoch 31/50\n",
      "210/210 [==============================] - 0s 777us/step - loss: 0.3539 - accuracy: 0.8581\n",
      "Epoch 32/50\n",
      "210/210 [==============================] - 0s 787us/step - loss: 0.3530 - accuracy: 0.8563\n",
      "Epoch 33/50\n",
      "210/210 [==============================] - 0s 794us/step - loss: 0.3527 - accuracy: 0.8560\n",
      "Epoch 34/50\n",
      "210/210 [==============================] - 0s 801us/step - loss: 0.3520 - accuracy: 0.8572\n",
      "Epoch 35/50\n",
      "210/210 [==============================] - 0s 829us/step - loss: 0.3518 - accuracy: 0.8588\n",
      "Epoch 36/50\n",
      "210/210 [==============================] - 0s 804us/step - loss: 0.3508 - accuracy: 0.8579\n",
      "Epoch 37/50\n",
      "210/210 [==============================] - 0s 791us/step - loss: 0.3502 - accuracy: 0.8596\n",
      "Epoch 38/50\n",
      "210/210 [==============================] - 0s 776us/step - loss: 0.3496 - accuracy: 0.8570\n",
      "Epoch 39/50\n",
      "210/210 [==============================] - 0s 789us/step - loss: 0.3495 - accuracy: 0.8558\n",
      "Epoch 40/50\n",
      "210/210 [==============================] - 0s 793us/step - loss: 0.3487 - accuracy: 0.8587\n",
      "Epoch 41/50\n",
      "210/210 [==============================] - 0s 778us/step - loss: 0.3478 - accuracy: 0.8610\n",
      "Epoch 42/50\n",
      "210/210 [==============================] - 0s 774us/step - loss: 0.3473 - accuracy: 0.8615\n",
      "Epoch 43/50\n",
      "210/210 [==============================] - 0s 791us/step - loss: 0.3464 - accuracy: 0.8597\n",
      "Epoch 44/50\n",
      "210/210 [==============================] - 0s 782us/step - loss: 0.3465 - accuracy: 0.8624\n",
      "Epoch 45/50\n",
      "210/210 [==============================] - 0s 780us/step - loss: 0.3452 - accuracy: 0.8599\n",
      "Epoch 46/50\n",
      "210/210 [==============================] - 0s 791us/step - loss: 0.3457 - accuracy: 0.8588\n",
      "Epoch 47/50\n",
      "210/210 [==============================] - 0s 879us/step - loss: 0.3453 - accuracy: 0.8622\n",
      "Epoch 48/50\n",
      "210/210 [==============================] - 0s 779us/step - loss: 0.3445 - accuracy: 0.8625\n",
      "Epoch 49/50\n",
      "210/210 [==============================] - 0s 823us/step - loss: 0.3441 - accuracy: 0.8607\n",
      "Epoch 50/50\n",
      "210/210 [==============================] - 0s 789us/step - loss: 0.3437 - accuracy: 0.8615\n"
     ]
    },
    {
     "data": {
      "text/plain": [
       "<keras.callbacks.History at 0x1182ed7b820>"
      ]
     },
     "execution_count": 17,
     "metadata": {},
     "output_type": "execute_result"
    }
   ],
   "source": [
    "classifier.fit(X_train, y_train, epochs = 50)"
   ]
  },
  {
   "cell_type": "markdown",
   "metadata": {},
   "source": [
    "Predicting the Test set results"
   ]
  },
  {
   "cell_type": "code",
   "execution_count": 18,
   "metadata": {},
   "outputs": [
    {
     "name": "stdout",
     "output_type": "stream",
     "text": [
      "104/104 [==============================] - 0s 677us/step\n"
     ]
    }
   ],
   "source": [
    "\n",
    "y_pred = classifier.predict(X_test)\n",
    "y_pred = (y_pred > 0.5)"
   ]
  },
  {
   "cell_type": "markdown",
   "metadata": {},
   "source": [
    "See the results"
   ]
  },
  {
   "cell_type": "code",
   "execution_count": 19,
   "metadata": {},
   "outputs": [
    {
     "name": "stdout",
     "output_type": "stream",
     "text": [
      "[[2521   96]\n",
      " [ 377  306]]\n"
     ]
    }
   ],
   "source": [
    "from sklearn.metrics import confusion_matrix\n",
    "cm = confusion_matrix(y_test, y_pred)\n",
    "print(cm)"
   ]
  }
 ],
 "metadata": {
  "kernelspec": {
   "display_name": "Python 3.10.4 64-bit",
   "language": "python",
   "name": "python3"
  },
  "language_info": {
   "codemirror_mode": {
    "name": "ipython",
    "version": 3
   },
   "file_extension": ".py",
   "mimetype": "text/x-python",
   "name": "python",
   "nbconvert_exporter": "python",
   "pygments_lexer": "ipython3",
   "version": "3.10.4"
  },
  "orig_nbformat": 4,
  "vscode": {
   "interpreter": {
    "hash": "4e0347718afc69be7b1c23768afdbedb062dd9a48333758dd9b559c5248491fc"
   }
  }
 },
 "nbformat": 4,
 "nbformat_minor": 2
}
